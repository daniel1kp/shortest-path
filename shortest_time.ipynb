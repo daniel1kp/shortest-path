{
  "nbformat": 4,
  "nbformat_minor": 0,
  "metadata": {
    "colab": {
      "provenance": []
    },
    "kernelspec": {
      "name": "python3",
      "display_name": "Python 3"
    },
    "language_info": {
      "name": "python"
    }
  },
  "cells": [
    {
      "cell_type": "markdown",
      "source": [
        " The code is trying to find the shortest distance between each node in a graph.\n",
        "\n",
        " It starts with the start node and ends at the end node.\n",
        "\n",
        " The code creates an empty dictionary called path that is initially set to 0.\n",
        " Inside of this loop, it visits every node in the trail using a for loop and appends them into queue which is then removed from inside of this loop when they are visited.\n",
        "\n",
        " The while loop removes nodes from queue until there are no more nodes left on queue or until there is one less than what was found on queue before removing it.\n",
        "\n",
        " This process repeats until all nodes have been visited and their distances calculated, after which adj_node contains all adjacent nodes that were not previously visited but now can be explored by following these paths back to their starting point (the start).\n",
        "\n",
        " The code will iterate through each node in the graph, and then add the current node to a queue.\n",
        "\n",
        " The code will continue to do this until it has visited all nodes in the graph.\n",
        " Once it has visited all nodes, it will remove the last node from the queue and determine if there is a shorter path between two nodes.\n",
        "\n",
        " If so, that new shortest path will be added to an adj_node list which is used as a reference for finding alternate paths between two points.\n",
        " The following snippet shows how this function would be called: #Shortest Distance between each node path = {} #To explore adjacent nodes adj_node = {} #to append unvisited nodes"
      ],
      "metadata": {
        "id": "z_n8iku7v4OD"
      }
    },
    {
      "cell_type": "code",
      "source": [
        "#Given the scenario: Majority of Roads in the following areas are under construction, find the shortest path with the availble travel time"
      ],
      "metadata": {
        "id": "bmvMJhFaOylI"
      },
      "execution_count": null,
      "outputs": []
    },
    {
      "cell_type": "code",
      "source": [
        "#Data Set: https://docs.google.com/spreadsheets/d/1JxOHmPFDUAWlSSRJqYHj5upJsbZZw8oMmzSHrOCTm3k/edit?usp=sharing"
      ],
      "metadata": {
        "id": "CShnEEj35ADi"
      },
      "execution_count": null,
      "outputs": []
    },
    {
      "cell_type": "code",
      "source": [
        "#Defining the Data as a Dictorary for Analysis\n",
        "def map() :\n",
        "        return {\n",
        "            'Ashok_Pillar': {'Besant_Nagar':29, 'Chennai_Airport':28, 'Dhandeeswaram':24, 'Foreshore_Beach':34, 'High_Court':39, 'Forum_Mall':11},\n",
        "            'Besant_Nagar': {'Ashok_Pillar':38, 'Ekkattuthangal':30},\n",
        "            'Chennai_Airport': {'Ashok_Pillar':32, 'Foreshore_Beach':62},\n",
        "            'Dhandeeswaram': {'Ashok_Pillar':23, 'Foreshore_Beach':38},\n",
        "            'Ekkattuthangal': {'Besant_Nagar':46, 'Forum_Mall':18},\n",
        "            'Foreshore_Beach': {'Chennai_Airport':42, 'Dhandeeswaram':31, 'Kilpauk_Metro':24, 'Guindy_Metro':25},\n",
        "            'Guindy_Metro': {'Foreshore_Beach':45, 'Indira_nagar ':29},\n",
        "            'High_Court': {'Forum_Mall':42},\n",
        "            'Indira_nagar ': {'Guindy_Metro':15, 'Forum_Mall':39},\n",
        "            'Forum_Mall': {'High_Court':37, 'Indira_nagar ':38},\n",
        "            'Kilpauk_Metro': {'Foreshore_Beach':27}\n",
        "        }"
      ],
      "metadata": {
        "id": "gY6JqMUg3nHv"
      },
      "execution_count": null,
      "outputs": []
    },
    {
      "cell_type": "code",
      "source": [
        "trail = map()\n",
        "def Shortest_path(trail,start,end):\n",
        "  #Shortest Distance between each node\n",
        "    path = {}\n",
        "  #To explore adjacent nodes\n",
        "    adj_node = {}\n",
        "  #to append unvisited nodes and remove visited nodes\n",
        "    queue = []\n",
        "  #Make a loop termed node that visits each node in the graph. Initialise the path to zero as well.\n",
        "    for node in trail:\n",
        "        path[node] = float('inf')\n",
        "        adj_node[node] = None\n",
        "        queue.append(node)\n",
        "    path[start] = 0\n",
        "  #To remove the visited nodes and determine the shortest path between them, a while loop is inserted inside the queue.\n",
        "    while queue:\n",
        "        key_min = queue[0]\n",
        "        min_val = path[key_min]\n",
        "        for n in range(1, len(queue)):\n",
        "            if path[queue[n]] < min_val:\n",
        "                key_min = queue[n]\n",
        "                min_val = path[key_min]\n",
        "        cur = key_min\n",
        "        queue.remove(cur)\n",
        "        for i in trail[cur]:\n",
        "            alternate = trail[cur][i] + path[cur]\n",
        "            if path[i] > alternate:\n",
        "                path[i] = alternate\n",
        "                adj_node[i] = cur\n",
        "                #Print Output\n",
        "    print('Shortest route between {} and {} with given data:'.format(start,end))\n",
        "    path_output = []\n",
        "    while True:\n",
        "        if end is None:\n",
        "            path_output.reverse()\n",
        "            print(\" -> \".join(path_output))\n",
        "            break\n",
        "        path_output.append(end)\n",
        "        end = adj_node[end]"
      ],
      "metadata": {
        "id": "9aWWGTQ23zlb"
      },
      "execution_count": null,
      "outputs": []
    },
    {
      "cell_type": "code",
      "source": [
        "Shortest_path(trail,'Forum_Mall','Ekkattuthangal')"
      ],
      "metadata": {
        "colab": {
          "base_uri": "https://localhost:8080/"
        },
        "id": "kS_XxphaKK79",
        "outputId": "40083820-d42a-477a-877e-f8b5249be90c"
      },
      "execution_count": null,
      "outputs": [
        {
          "output_type": "stream",
          "name": "stdout",
          "text": [
            "Shortest route between Forum_Mall and Ekkattuthangal with given data:\n",
            "Forum_Mall -> Indira_nagar  -> Guindy_Metro -> Foreshore_Beach -> Dhandeeswaram -> Ashok_Pillar -> Besent_Nagar -> Ekkattuthangal\n"
          ]
        }
      ]
    }
  ]
}
